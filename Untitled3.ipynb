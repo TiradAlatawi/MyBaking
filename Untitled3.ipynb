{
  "metadata": {
    "language_info": {
      "codemirror_mode": {
        "name": "python",
        "version": 3
      },
      "file_extension": ".py",
      "mimetype": "text/x-python",
      "name": "python",
      "nbconvert_exporter": "python",
      "pygments_lexer": "ipython3",
      "version": "3.8"
    },
    "kernelspec": {
      "name": "python",
      "display_name": "Pyolite",
      "language": "python"
    }
  },
  "nbformat_minor": 4,
  "nbformat": 4,
  "cells": [
    {
      "cell_type": "markdown",
      "source": "# My Jupyter Notebook on IBM Watson Studio",
      "metadata": {}
    },
    {
      "cell_type": "markdown",
      "source": "<b> Tirad Alotaibi \n<br> CPA",
      "metadata": {}
    },
    {
      "cell_type": "markdown",
      "source": "_I am interested in data science because it will help my in undersunding the world fileds more_",
      "metadata": {}
    },
    {
      "cell_type": "markdown",
      "source": "### I will calculate the numbers 4 and 5 togther  ",
      "metadata": {}
    },
    {
      "cell_type": "code",
      "source": "4+5",
      "metadata": {
        "trusted": true
      },
      "execution_count": 2,
      "outputs": [
        {
          "execution_count": 2,
          "output_type": "execute_result",
          "data": {
            "text/plain": "9"
          },
          "metadata": {}
        }
      ]
    },
    {
      "cell_type": "markdown",
      "source": "| Monthe  (m) |  Year(Y)    | Place (P)|\n| ----------- |------------ |--------- |\n| Julay.      | 1994.       | Dubai    | <bR>\n\n    \n---\n\n---\n    \n",
      "metadata": {}
    },
    {
      "cell_type": "markdown",
      "source": "[IBM](https://cloud.ibm.com/login?state=%2F&sessionExpired=true)",
      "metadata": {}
    },
    {
      "cell_type": "code",
      "source": "",
      "metadata": {},
      "execution_count": null,
      "outputs": []
    }
  ]
}